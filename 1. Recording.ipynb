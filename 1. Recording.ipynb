{
 "cells": [
  {
   "cell_type": "markdown",
   "metadata": {},
   "source": []
  },
  {
   "cell_type": "code",
   "execution_count": 42,
   "metadata": {},
   "outputs": [],
   "source": [
    "import pyautogui\n",
    "import time\n",
    "import pandas as pd  \n",
    "from datetime import datetime"
   ]
  },
  {
   "attachments": {},
   "cell_type": "markdown",
   "metadata": {},
   "source": [
    "cmd \n",
    "C:\\Users\\minisim\\CyKit-master\\Py3\n",
    "CyKIT.py 127.0.0.1 54123 6 eegmode"
   ]
  },
  {
   "attachments": {},
   "cell_type": "markdown",
   "metadata": {},
   "source": [
    "#### 1. Extracting the coordinates of recording buttons"
   ]
  },
  {
   "cell_type": "code",
   "execution_count": 43,
   "metadata": {},
   "outputs": [
    {
     "name": "stdout",
     "output_type": "stream",
     "text": [
      "Point(x=5804, y=155)\n",
      "Point(x=5845, y=157)\n"
     ]
    }
   ],
   "source": [
    "time.sleep(2)\n",
    "eeg_start=pyautogui.position()\n",
    "print(eeg_start)\n",
    "time.sleep(5)\n",
    "eeg_end=pyautogui.position()\n",
    "print(eeg_end)"
   ]
  },
  {
   "cell_type": "code",
   "execution_count": 44,
   "metadata": {},
   "outputs": [],
   "source": [
    "sx1, sy1 =eeg_start\n",
    "sx2, sy2 =eeg_end"
   ]
  },
  {
   "cell_type": "code",
   "execution_count": 52,
   "metadata": {},
   "outputs": [
    {
     "name": "stdout",
     "output_type": "stream",
     "text": [
      "Point(x=6191, y=572)\n"
     ]
    }
   ],
   "source": [
    "time.sleep(2)\n",
    "eyetracking=pyautogui.position()\n",
    "print(eyetracking)\n"
   ]
  },
  {
   "cell_type": "code",
   "execution_count": 53,
   "metadata": {},
   "outputs": [],
   "source": [
    "tx1, ty1 =eyetracking\n"
   ]
  },
  {
   "cell_type": "code",
   "execution_count": 49,
   "metadata": {},
   "outputs": [
    {
     "name": "stdout",
     "output_type": "stream",
     "text": [
      "Point(x=6241, y=364)\n",
      "Point(x=6678, y=364)\n"
     ]
    }
   ],
   "source": [
    "time.sleep(2)\n",
    "signal_start=pyautogui.position()\n",
    "print(signal_start)\n",
    "time.sleep(7)\n",
    "signal_end=pyautogui.position()\n",
    "print(signal_end)"
   ]
  },
  {
   "cell_type": "code",
   "execution_count": 50,
   "metadata": {},
   "outputs": [],
   "source": [
    "ux1, uy1 =signal_start\n",
    "ux2, uy2 =signal_end"
   ]
  },
  {
   "attachments": {},
   "cell_type": "markdown",
   "metadata": {},
   "source": [
    "#### 2. Experiment"
   ]
  },
  {
   "attachments": {},
   "cell_type": "markdown",
   "metadata": {},
   "source": [
    "##### 2-1. Scenario1(HDV) - start"
   ]
  },
  {
   "attachments": {},
   "cell_type": "markdown",
   "metadata": {},
   "source": [
    "##### 2-1-a."
   ]
  },
  {
   "cell_type": "code",
   "execution_count": 54,
   "metadata": {},
   "outputs": [
    {
     "name": "stdout",
     "output_type": "stream",
     "text": [
      "Scenario1(HDV) exp start:  2023-01-18 07:45:42.425461\n"
     ]
    }
   ],
   "source": [
    "pyautogui.moveTo(ux1,uy1, duration=0)\n",
    "pyautogui.click()\n",
    "pyautogui.moveTo(sx1,sy1, duration=4.3)\n",
    "pyautogui.click()\n",
    "pyautogui.moveTo(tx1,ty1, duration=0)\n",
    "pyautogui.click()\n",
    "start1 = datetime.now()\n",
    "print(\"Scenario1(HDV) exp start: \", start1)"
   ]
  },
  {
   "attachments": {},
   "cell_type": "markdown",
   "metadata": {},
   "source": [
    "##### 2-1-b."
   ]
  },
  {
   "cell_type": "code",
   "execution_count": 55,
   "metadata": {},
   "outputs": [
    {
     "name": "stdout",
     "output_type": "stream",
     "text": [
      "Scenario1(HDV) driving start:  2023-01-18 07:46:07.857401\n"
     ]
    }
   ],
   "source": [
    "d_start1 = datetime.now()\n",
    "print(\"Scenario1(HDV) driving start: \", d_start1)"
   ]
  },
  {
   "attachments": {},
   "cell_type": "markdown",
   "metadata": {},
   "source": [
    "##### 2-2. Scenario1(HDV) - end"
   ]
  },
  {
   "attachments": {},
   "cell_type": "markdown",
   "metadata": {},
   "source": [
    "##### 2-2-a."
   ]
  },
  {
   "cell_type": "code",
   "execution_count": 56,
   "metadata": {},
   "outputs": [
    {
     "name": "stdout",
     "output_type": "stream",
     "text": [
      "Scenario1(HDV) driving end:  2023-01-18 07:49:46.296370\n"
     ]
    }
   ],
   "source": [
    "d_end1 = datetime.now()\n",
    "print(\"Scenario1(HDV) driving end: \", d_end1)"
   ]
  },
  {
   "attachments": {},
   "cell_type": "markdown",
   "metadata": {},
   "source": [
    "##### 2-1-b."
   ]
  },
  {
   "cell_type": "code",
   "execution_count": 57,
   "metadata": {},
   "outputs": [
    {
     "name": "stdout",
     "output_type": "stream",
     "text": [
      "Scenario1(HDV) exp end:  2023-01-18 07:49:50.730596\n"
     ]
    }
   ],
   "source": [
    "pyautogui.moveTo(sx2,sy2, duration=0)\n",
    "pyautogui.click()\n",
    "pyautogui.moveTo(tx1,ty1, duration=0)\n",
    "pyautogui.click()\n",
    "pyautogui.moveTo(ux2,uy2, duration=0)\n",
    "pyautogui.click()\n",
    "end1 = datetime.now()\n",
    "print(\"Scenario1(HDV) exp end: \", end1)\n"
   ]
  },
  {
   "attachments": {},
   "cell_type": "markdown",
   "metadata": {},
   "source": [
    "##### 2-3. Scenario2(Unmarked AV) - start"
   ]
  },
  {
   "attachments": {},
   "cell_type": "markdown",
   "metadata": {},
   "source": [
    "##### 2-3-a."
   ]
  },
  {
   "cell_type": "code",
   "execution_count": 27,
   "metadata": {},
   "outputs": [
    {
     "name": "stdout",
     "output_type": "stream",
     "text": [
      "Scenario2(Unmarked) exp start  2023-01-18 07:28:53.925402\n"
     ]
    }
   ],
   "source": [
    "pyautogui.moveTo(ux1,uy1, duration=0)\n",
    "pyautogui.click()\n",
    "pyautogui.moveTo(sx1,sy1, duration=4.5)\n",
    "pyautogui.click()\n",
    "pyautogui.moveTo(tx1,ty1, duration=0)\n",
    "pyautogui.click()\n",
    "start2 = datetime.now()\n",
    "print(\"Scenario2(Unmarked) exp start \", start2)"
   ]
  },
  {
   "attachments": {},
   "cell_type": "markdown",
   "metadata": {},
   "source": [
    "##### 2-3-b."
   ]
  },
  {
   "cell_type": "code",
   "execution_count": 28,
   "metadata": {},
   "outputs": [
    {
     "name": "stdout",
     "output_type": "stream",
     "text": [
      "Scenario2(Unmarked AV) driving start:  2023-01-18 07:29:00.146266\n"
     ]
    }
   ],
   "source": [
    "d_start2 = datetime.now()\n",
    "print(\"Scenario2(Unmarked AV) driving start: \", d_start2)"
   ]
  },
  {
   "attachments": {},
   "cell_type": "markdown",
   "metadata": {},
   "source": [
    " ##### 2-4. Scenario2(Unmarked AV) - end"
   ]
  },
  {
   "attachments": {},
   "cell_type": "markdown",
   "metadata": {},
   "source": [
    "##### 2-4-a."
   ]
  },
  {
   "cell_type": "code",
   "execution_count": 29,
   "metadata": {},
   "outputs": [
    {
     "name": "stdout",
     "output_type": "stream",
     "text": [
      "Scenario2(Unmarked AV) driving end:  2023-01-18 07:29:03.348703\n"
     ]
    }
   ],
   "source": [
    "d_end2 = datetime.now()\n",
    "print(\"Scenario2(Unmarked AV) driving end: \", d_end2)"
   ]
  },
  {
   "attachments": {},
   "cell_type": "markdown",
   "metadata": {},
   "source": [
    "##### 2-4-b."
   ]
  },
  {
   "cell_type": "code",
   "execution_count": 30,
   "metadata": {},
   "outputs": [
    {
     "name": "stdout",
     "output_type": "stream",
     "text": [
      "Scenario2(Unmarked) exp end:  2023-01-18 07:29:07.260469\n"
     ]
    }
   ],
   "source": [
    "pyautogui.moveTo(sx2,sy2, duration=0)\n",
    "pyautogui.click()\n",
    "pyautogui.moveTo(tx1,ty1, duration=0)\n",
    "pyautogui.click()\n",
    "pyautogui.moveTo(ux2,uy2, duration=0)\n",
    "pyautogui.click()\n",
    "end2 = datetime.now()\n",
    "print(\"Scenario2(Unmarked) exp end: \", end2)"
   ]
  },
  {
   "attachments": {},
   "cell_type": "markdown",
   "metadata": {},
   "source": [
    "##### 2-5. Scenario3(Marked AV) - start"
   ]
  },
  {
   "attachments": {},
   "cell_type": "markdown",
   "metadata": {},
   "source": [
    "##### 2-5-a."
   ]
  },
  {
   "cell_type": "code",
   "execution_count": 31,
   "metadata": {},
   "outputs": [
    {
     "name": "stdout",
     "output_type": "stream",
     "text": [
      "Scenario3(Marked) exp start:  2023-01-18 07:29:27.761305\n"
     ]
    }
   ],
   "source": [
    "pyautogui.moveTo(ux1,uy1, duration=0)\n",
    "pyautogui.click()\n",
    "pyautogui.moveTo(sx1,sy1, duration=4.5)\n",
    "pyautogui.click()\n",
    "pyautogui.moveTo(tx1,ty1, duration=0)\n",
    "pyautogui.click()\n",
    "start3 = datetime.now()\n",
    "print(\"Scenario3(Marked) exp start: \", start3)"
   ]
  },
  {
   "attachments": {},
   "cell_type": "markdown",
   "metadata": {},
   "source": [
    "##### 2-5-b."
   ]
  },
  {
   "cell_type": "code",
   "execution_count": 32,
   "metadata": {},
   "outputs": [
    {
     "name": "stdout",
     "output_type": "stream",
     "text": [
      "Scenario3(Marked AV) driving start:  2023-01-18 07:29:32.995167\n"
     ]
    }
   ],
   "source": [
    "d_start3 = datetime.now()\n",
    "print(\"Scenario3(Marked AV) driving start: \", d_start3)"
   ]
  },
  {
   "attachments": {},
   "cell_type": "markdown",
   "metadata": {},
   "source": [
    " ##### 2-6. Scenario3(Marked AV) - end"
   ]
  },
  {
   "attachments": {},
   "cell_type": "markdown",
   "metadata": {},
   "source": [
    "##### 2-6-a."
   ]
  },
  {
   "cell_type": "code",
   "execution_count": 33,
   "metadata": {},
   "outputs": [
    {
     "name": "stdout",
     "output_type": "stream",
     "text": [
      "Scenario3(Marked AV) driving end:  2023-01-18 07:29:36.682389\n"
     ]
    }
   ],
   "source": [
    "d_end3 = datetime.now()\n",
    "print(\"Scenario3(Marked AV) driving end: \", d_end3)"
   ]
  },
  {
   "attachments": {},
   "cell_type": "markdown",
   "metadata": {},
   "source": [
    "##### 2-6-b."
   ]
  },
  {
   "cell_type": "code",
   "execution_count": 34,
   "metadata": {},
   "outputs": [
    {
     "name": "stdout",
     "output_type": "stream",
     "text": [
      "Scenario3(Unmarked) exp end:  2023-01-18 07:29:39.709548\n"
     ]
    }
   ],
   "source": [
    "pyautogui.moveTo(sx2,sy2, duration=0)\n",
    "pyautogui.click()\n",
    "pyautogui.moveTo(tx1,ty1, duration=0)\n",
    "pyautogui.click()\n",
    "pyautogui.moveTo(ux2,uy2, duration=0)\n",
    "pyautogui.click()\n",
    "end3 = datetime.now()\n",
    "print(\"Scenario3(Unmarked) exp end: \", end3)"
   ]
  },
  {
   "attachments": {},
   "cell_type": "markdown",
   "metadata": {},
   "source": [
    "#### 3. Time frame"
   ]
  },
  {
   "cell_type": "code",
   "execution_count": 39,
   "metadata": {},
   "outputs": [],
   "source": [
    "# list of name, degree, score \n",
    "name = ['start1','d_start1', 'end1','d_end1',  'start2','d_start2', 'end2', 'd_end2', 'start3', 'd_start3', 'end3', 'd_end3'] \n",
    "time = [start1,d_start1, end1,d_end1,  start2,d_start2,  end2, d_end2, start3, d_start3, end3,d_end3] \n",
    "     \n",
    "# dictionary of lists  \n",
    "dict = {'name': name, 'time': time}  \n",
    "       \n",
    "df = pd.DataFrame(dict) \n",
    "\n",
    "# saving the dataframe \n",
    "df.to_csv('time_frame.csv') \n",
    "\n"
   ]
  },
  {
   "cell_type": "code",
   "execution_count": 36,
   "metadata": {},
   "outputs": [
    {
     "data": {
      "text/html": [
       "<div>\n",
       "<style scoped>\n",
       "    .dataframe tbody tr th:only-of-type {\n",
       "        vertical-align: middle;\n",
       "    }\n",
       "\n",
       "    .dataframe tbody tr th {\n",
       "        vertical-align: top;\n",
       "    }\n",
       "\n",
       "    .dataframe thead th {\n",
       "        text-align: right;\n",
       "    }\n",
       "</style>\n",
       "<table border=\"1\" class=\"dataframe\">\n",
       "  <thead>\n",
       "    <tr style=\"text-align: right;\">\n",
       "      <th></th>\n",
       "      <th>name</th>\n",
       "      <th>time</th>\n",
       "    </tr>\n",
       "  </thead>\n",
       "  <tbody>\n",
       "    <tr>\n",
       "      <th>0</th>\n",
       "      <td>start1</td>\n",
       "      <td>2023-01-18 07:28:18.085125</td>\n",
       "    </tr>\n",
       "    <tr>\n",
       "      <th>1</th>\n",
       "      <td>d_start1</td>\n",
       "      <td>2023-01-18 07:28:35.168833</td>\n",
       "    </tr>\n",
       "    <tr>\n",
       "      <th>2</th>\n",
       "      <td>end1</td>\n",
       "      <td>2023-01-18 07:28:40.560416</td>\n",
       "    </tr>\n",
       "    <tr>\n",
       "      <th>3</th>\n",
       "      <td>d_end1</td>\n",
       "      <td>2023-01-18 07:28:38.533628</td>\n",
       "    </tr>\n",
       "    <tr>\n",
       "      <th>4</th>\n",
       "      <td>start2</td>\n",
       "      <td>2023-01-18 07:28:53.925402</td>\n",
       "    </tr>\n",
       "    <tr>\n",
       "      <th>5</th>\n",
       "      <td>d_start2</td>\n",
       "      <td>2023-01-18 07:29:00.146266</td>\n",
       "    </tr>\n",
       "    <tr>\n",
       "      <th>6</th>\n",
       "      <td>end2</td>\n",
       "      <td>2023-01-18 07:29:07.260469</td>\n",
       "    </tr>\n",
       "    <tr>\n",
       "      <th>7</th>\n",
       "      <td>d_end2</td>\n",
       "      <td>2023-01-18 07:29:03.348703</td>\n",
       "    </tr>\n",
       "    <tr>\n",
       "      <th>8</th>\n",
       "      <td>start3</td>\n",
       "      <td>2023-01-18 07:29:27.761305</td>\n",
       "    </tr>\n",
       "    <tr>\n",
       "      <th>9</th>\n",
       "      <td>d_start3</td>\n",
       "      <td>2023-01-18 07:29:32.995167</td>\n",
       "    </tr>\n",
       "    <tr>\n",
       "      <th>10</th>\n",
       "      <td>end3</td>\n",
       "      <td>2023-01-18 07:29:39.709548</td>\n",
       "    </tr>\n",
       "    <tr>\n",
       "      <th>11</th>\n",
       "      <td>d_end3</td>\n",
       "      <td>2023-01-18 07:29:36.682389</td>\n",
       "    </tr>\n",
       "  </tbody>\n",
       "</table>\n",
       "</div>"
      ],
      "text/plain": [
       "        name                       time\n",
       "0     start1 2023-01-18 07:28:18.085125\n",
       "1   d_start1 2023-01-18 07:28:35.168833\n",
       "2       end1 2023-01-18 07:28:40.560416\n",
       "3     d_end1 2023-01-18 07:28:38.533628\n",
       "4     start2 2023-01-18 07:28:53.925402\n",
       "5   d_start2 2023-01-18 07:29:00.146266\n",
       "6       end2 2023-01-18 07:29:07.260469\n",
       "7     d_end2 2023-01-18 07:29:03.348703\n",
       "8     start3 2023-01-18 07:29:27.761305\n",
       "9   d_start3 2023-01-18 07:29:32.995167\n",
       "10      end3 2023-01-18 07:29:39.709548\n",
       "11    d_end3 2023-01-18 07:29:36.682389"
      ]
     },
     "execution_count": 36,
     "metadata": {},
     "output_type": "execute_result"
    }
   ],
   "source": [
    "df"
   ]
  },
  {
   "attachments": {},
   "cell_type": "markdown",
   "metadata": {},
   "source": [
    "bioplux\n",
    "C:\\Users\\minisim\\Documents\\OpenSignals (r)evolution\\files"
   ]
  },
  {
   "attachments": {},
   "cell_type": "markdown",
   "metadata": {},
   "source": [
    "eyetracler\n",
    "C:\\Users\\minisim\\recordings"
   ]
  },
  {
   "attachments": {},
   "cell_type": "markdown",
   "metadata": {},
   "source": [
    "eeg\n",
    "C:\\Users\\minisim\\recordings"
   ]
  }
 ],
 "metadata": {
  "kernelspec": {
   "display_name": "base",
   "language": "python",
   "name": "python3"
  },
  "language_info": {
   "codemirror_mode": {
    "name": "ipython",
    "version": 3
   },
   "file_extension": ".py",
   "mimetype": "text/x-python",
   "name": "python",
   "nbconvert_exporter": "python",
   "pygments_lexer": "ipython3",
   "version": "3.9.7"
  },
  "orig_nbformat": 4,
  "vscode": {
   "interpreter": {
    "hash": "0791ce373f72e664942b9c634df3e0ededc2d935dd872ae27c0c409db17b9deb"
   }
  }
 },
 "nbformat": 4,
 "nbformat_minor": 2
}

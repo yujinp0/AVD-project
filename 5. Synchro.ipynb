{
  "cells": [
    {
      "cell_type": "markdown",
      "metadata": {
        "id": "8Rtl3K2WpUUl"
      },
      "source": [
        "## [1] load packages \n",
        "- bioplux: 400\n",
        "- eeg: 128\n",
        "- eyetracking: 256"
      ]
    },
    {
      "cell_type": "code",
      "execution_count": 793,
      "metadata": {
        "id": "s2gVsuc8khbT"
      },
      "outputs": [],
      "source": [
        "import numpy as np\n",
        "import sys\n",
        "import h5py\n",
        "import pandas as pd\n",
        "import sys\n",
        "\n",
        "import os\n",
        "import matplotlib\n",
        "import matplotlib.pyplot as plt\n",
        "\n",
        "from datetime import datetime"
      ]
    },
    {
      "cell_type": "markdown",
      "metadata": {
        "id": "NpWvTL4dplll"
      },
      "source": [
        "## [2] load dataset"
      ]
    },
    {
      "cell_type": "code",
      "execution_count": 794,
      "metadata": {},
      "outputs": [],
      "source": [
        "from scipy import signal"
      ]
    },
    {
      "cell_type": "code",
      "execution_count": null,
      "metadata": {},
      "outputs": [],
      "source": []
    },
    {
      "attachments": {},
      "cell_type": "markdown",
      "metadata": {},
      "source": [
        "### 2.1 set the number of subject"
      ]
    },
    {
      "cell_type": "code",
      "execution_count": 795,
      "metadata": {},
      "outputs": [],
      "source": [
        "number_subject=['P30'] # ex) P1, P2, P3, ... P30"
      ]
    },
    {
      "cell_type": "code",
      "execution_count": 796,
      "metadata": {},
      "outputs": [],
      "source": [
        "f_path = r\"/Users/yujinpark/Desktop/AVD/Raw data\"\n",
        "list_file1=['time_frame', '1. sim', '2. bio']\n",
        "list_file2=['bio','eeg','eye']\n",
        "list_file3=['S1','S2','S3']"
      ]
    },
    {
      "attachments": {},
      "cell_type": "markdown",
      "metadata": {},
      "source": [
        "### 2.2 load the time fromae"
      ]
    },
    {
      "cell_type": "code",
      "execution_count": 797,
      "metadata": {
        "id": "1Yioprp1DWD8"
      },
      "outputs": [
        {
          "data": {
            "text/html": [
              "<div>\n",
              "<style scoped>\n",
              "    .dataframe tbody tr th:only-of-type {\n",
              "        vertical-align: middle;\n",
              "    }\n",
              "\n",
              "    .dataframe tbody tr th {\n",
              "        vertical-align: top;\n",
              "    }\n",
              "\n",
              "    .dataframe thead th {\n",
              "        text-align: right;\n",
              "    }\n",
              "</style>\n",
              "<table border=\"1\" class=\"dataframe\">\n",
              "  <thead>\n",
              "    <tr style=\"text-align: right;\">\n",
              "      <th></th>\n",
              "      <th>Unnamed: 0</th>\n",
              "      <th>name</th>\n",
              "      <th>time</th>\n",
              "    </tr>\n",
              "  </thead>\n",
              "  <tbody>\n",
              "    <tr>\n",
              "      <th>0</th>\n",
              "      <td>0</td>\n",
              "      <td>start1</td>\n",
              "      <td>2023-04-08 21:18:30.682673</td>\n",
              "    </tr>\n",
              "    <tr>\n",
              "      <th>1</th>\n",
              "      <td>1</td>\n",
              "      <td>d_start1</td>\n",
              "      <td>2023-04-08 21:18:35.655249</td>\n",
              "    </tr>\n",
              "    <tr>\n",
              "      <th>2</th>\n",
              "      <td>2</td>\n",
              "      <td>end1</td>\n",
              "      <td>2023-04-08 21:22:09.555968</td>\n",
              "    </tr>\n",
              "    <tr>\n",
              "      <th>3</th>\n",
              "      <td>3</td>\n",
              "      <td>d_end1</td>\n",
              "      <td>2023-04-08 21:22:06.800201</td>\n",
              "    </tr>\n",
              "    <tr>\n",
              "      <th>4</th>\n",
              "      <td>4</td>\n",
              "      <td>start2</td>\n",
              "      <td>2023-04-08 21:24:26.019628</td>\n",
              "    </tr>\n",
              "    <tr>\n",
              "      <th>5</th>\n",
              "      <td>5</td>\n",
              "      <td>d_start2</td>\n",
              "      <td>2023-04-08 21:24:31.602454</td>\n",
              "    </tr>\n",
              "    <tr>\n",
              "      <th>6</th>\n",
              "      <td>6</td>\n",
              "      <td>end2</td>\n",
              "      <td>2023-04-08 21:37:13.969001</td>\n",
              "    </tr>\n",
              "    <tr>\n",
              "      <th>7</th>\n",
              "      <td>7</td>\n",
              "      <td>d_end2</td>\n",
              "      <td>2023-04-08 21:37:11.178846</td>\n",
              "    </tr>\n",
              "    <tr>\n",
              "      <th>8</th>\n",
              "      <td>8</td>\n",
              "      <td>start3</td>\n",
              "      <td>2023-04-08 21:40:38.067075</td>\n",
              "    </tr>\n",
              "    <tr>\n",
              "      <th>9</th>\n",
              "      <td>9</td>\n",
              "      <td>d_start3</td>\n",
              "      <td>2023-04-08 21:40:44.556696</td>\n",
              "    </tr>\n",
              "    <tr>\n",
              "      <th>10</th>\n",
              "      <td>10</td>\n",
              "      <td>end3</td>\n",
              "      <td>2023-04-08 21:53:12.054959</td>\n",
              "    </tr>\n",
              "    <tr>\n",
              "      <th>11</th>\n",
              "      <td>11</td>\n",
              "      <td>d_end3</td>\n",
              "      <td>2023-04-08 21:53:09.213231</td>\n",
              "    </tr>\n",
              "  </tbody>\n",
              "</table>\n",
              "</div>"
            ],
            "text/plain": [
              "    Unnamed: 0      name                        time\n",
              "0            0    start1  2023-04-08 21:18:30.682673\n",
              "1            1  d_start1  2023-04-08 21:18:35.655249\n",
              "2            2      end1  2023-04-08 21:22:09.555968\n",
              "3            3    d_end1  2023-04-08 21:22:06.800201\n",
              "4            4    start2  2023-04-08 21:24:26.019628\n",
              "5            5  d_start2  2023-04-08 21:24:31.602454\n",
              "6            6      end2  2023-04-08 21:37:13.969001\n",
              "7            7    d_end2  2023-04-08 21:37:11.178846\n",
              "8            8    start3  2023-04-08 21:40:38.067075\n",
              "9            9  d_start3  2023-04-08 21:40:44.556696\n",
              "10          10      end3  2023-04-08 21:53:12.054959\n",
              "11          11    d_end3  2023-04-08 21:53:09.213231"
            ]
          },
          "execution_count": 797,
          "metadata": {},
          "output_type": "execute_result"
        }
      ],
      "source": [
        "time = pd.read_csv(os.path.join(f_path, number_subject[0],  list_file1[0] + '.csv'))\n",
        "time"
      ]
    },
    {
      "cell_type": "code",
      "execution_count": 798,
      "metadata": {},
      "outputs": [],
      "source": [
        "start1 = time.iloc[0,2]\n",
        "end1 = time.iloc[2,2]\n",
        "d_start1 = time.iloc[1,2]\n",
        "d_end1 = time.iloc[3,2]\n",
        "\n",
        "start2 = time.iloc[4,2]\n",
        "end2 = time.iloc[6,2]\n",
        "d_start2 = time.iloc[5,2]\n",
        "d_end2 = time.iloc[7,2]\n",
        "\n",
        "start3 = time.iloc[8,2]\n",
        "end3 = time.iloc[10,2]\n",
        "d_start3 = time.iloc[9,2]\n",
        "d_end3 = time.iloc[11,2]"
      ]
    },
    {
      "cell_type": "code",
      "execution_count": 799,
      "metadata": {},
      "outputs": [],
      "source": [
        "#a = pd.date_range(start=start1, end=end1, periods=eye.shape[0])\n",
        "#timeframe = pd.DataFrame(a, columns = ['timeframe'])\n",
        "#eye = pd.concat((timeframe, eye), axis=1)"
      ]
    },
    {
      "cell_type": "code",
      "execution_count": 800,
      "metadata": {},
      "outputs": [],
      "source": [
        "def add_timeframe(dataset, start, end):\n",
        "    a = pd.date_range(start=start, end=end, periods=dataset.shape[0])\n",
        "    timeframe = pd.DataFrame(a, columns = ['timeframe'])\n",
        "    dataset = pd.concat((timeframe, dataset), axis=1)\n",
        "    return dataset"
      ]
    },
    {
      "cell_type": "markdown",
      "metadata": {
        "id": "PL8kKy36BOu2"
      },
      "source": [
        "### 2.1. eyetracking"
      ]
    },
    {
      "cell_type": "code",
      "execution_count": 801,
      "metadata": {
        "id": "cRzqXGfWffyN"
      },
      "outputs": [],
      "source": [
        "def pre_eye(dataset):\n",
        "    dataset=dataset.iloc[:,[0,1,2,6]] #13: diameter \n",
        "#- diameter: diameter of the pupil in image pixels as observed in the eye - image frame (is not corrected for perspective)\n",
        "    left_eye =  dataset.loc[dataset['eye_id']==0].reset_index()\n",
        "    left_eye = left_eye.iloc[:,[1,2,4]]\n",
        "    left_eye.columns= ['pupil_timestamp', 'world_index', 'left_diameter']\n",
        "\n",
        "    right_eye =  dataset.loc[dataset['eye_id']==1].reset_index()\n",
        "    right_eye = right_eye.iloc[:,[1,2,4]]\n",
        "    right_eye.columns= ['pupil_timestamp', 'world_index', 'right_diameter']\n",
        "\n",
        "    eye = pd.concat((left_eye,right_eye['right_diameter']), axis=1).dropna()\n",
        "    return eye"
      ]
    },
    {
      "cell_type": "code",
      "execution_count": 802,
      "metadata": {},
      "outputs": [],
      "source": [
        "eye1 = pd.read_csv(os.path.join(f_path, number_subject[0], list_file1[2], list_file2[2], list_file3[0]  , 'pupil_positions.csv'))\n",
        "eye1 = pre_eye(eye1)\n",
        "eye1 = add_timeframe(eye1, start1, end1)"
      ]
    },
    {
      "cell_type": "code",
      "execution_count": 803,
      "metadata": {},
      "outputs": [],
      "source": [
        "eye2 = pd.read_csv(os.path.join(f_path, number_subject[0], list_file1[2], list_file2[2], list_file3[1]  , 'pupil_positions.csv'))\n",
        "eye2 = pre_eye(eye2)\n",
        "eye2 = add_timeframe(eye2, start2, end2)"
      ]
    },
    {
      "cell_type": "code",
      "execution_count": 804,
      "metadata": {
        "id": "P_mNgz410M0l"
      },
      "outputs": [],
      "source": [
        "eye3 = pd.read_csv(os.path.join(f_path, number_subject[0], list_file1[2], list_file2[2], list_file3[2]  , 'pupil_positions.csv'))\n",
        "eye3 = pre_eye(eye3)\n",
        "eye3 = add_timeframe(eye3, start3, end3)"
      ]
    },
    {
      "cell_type": "markdown",
      "metadata": {
        "id": "-UGjlTyVBTY4"
      },
      "source": [
        "### 2.2. eeg"
      ]
    },
    {
      "cell_type": "code",
      "execution_count": 805,
      "metadata": {},
      "outputs": [],
      "source": [
        "def pre_eeg(dataset):\n",
        "    dataset = dataset.iloc[:,[2,3,4,5,6,7,8,9,10,11,12,13,14,15]]\n",
        "    dataset.columns= [\"AF3\", \"F7\", \"F3\", \"FC5\", \"T7\", \"P7\",\"O1\",\"O2\",\"P8\",\"T8\",\"FC6\",\"F4\",\"F8\",\"AF4\"]\n",
        "    return dataset"
      ]
    },
    {
      "cell_type": "code",
      "execution_count": 806,
      "metadata": {
        "id": "CO7nJqhS9786"
      },
      "outputs": [],
      "source": [
        "eeg1 = pd.read_csv(os.path.join(f_path, number_subject[0], list_file1[2], list_file2[1], list_file3[0]  + '.csv'), sep=\",\", header=None, skiprows=1)\n",
        "eeg1 = pre_eeg(eeg1)\n",
        "eeg1 = add_timeframe(eeg1, start1, end1)"
      ]
    },
    {
      "cell_type": "code",
      "execution_count": 807,
      "metadata": {},
      "outputs": [],
      "source": [
        "eeg2 = pd.read_csv(os.path.join(f_path, number_subject[0], list_file1[2], list_file2[1], list_file3[1]  + '.csv'), sep=\",\", header=None, skiprows=1)\n",
        "eeg2 = pre_eeg(eeg2)\n",
        "eeg2 = add_timeframe(eeg2, start2, end2)"
      ]
    },
    {
      "cell_type": "code",
      "execution_count": 808,
      "metadata": {},
      "outputs": [],
      "source": [
        "#dataset = pd.read_csv(f_path)\n",
        "eeg3 = pd.read_csv(os.path.join(f_path, number_subject[0], list_file1[2], list_file2[1], list_file3[2]  + '.csv'), sep=\",\", header=None, skiprows=1)\n",
        "eeg3 = pre_eeg(eeg3)\n",
        "eeg3 = add_timeframe(eeg3, start3, end3)"
      ]
    },
    {
      "cell_type": "markdown",
      "metadata": {
        "id": "Za2ZYGHNBV88"
      },
      "source": [
        "### 2.3. plux biosignal"
      ]
    },
    {
      "cell_type": "code",
      "execution_count": 809,
      "metadata": {},
      "outputs": [],
      "source": [
        "def pre_biop(dataset):\n",
        "    dataset = dataset.iloc[:,[2,3,4,5,6,7,8]]\n",
        "    dataset.columns= [\"ECG\", \"SpO2i\", \"SpO2ii\", \"EDA\", \"EMG\", \"%SpO2\",\"BVP\"]\n",
        "    return dataset"
      ]
    },
    {
      "cell_type": "code",
      "execution_count": 810,
      "metadata": {
        "id": "zMlrjLl6cHYx"
      },
      "outputs": [],
      "source": [
        "biop1 = pd.read_csv(os.path.join(f_path, number_subject[0], list_file1[2], list_file2[0], list_file3[0]  + '.txt'), sep=\"\\t\", header=None, skiprows=3)\n",
        "biop1 = pre_biop(biop1)\n",
        "biop1 = add_timeframe(biop1, start1, end1)"
      ]
    },
    {
      "cell_type": "code",
      "execution_count": 811,
      "metadata": {},
      "outputs": [],
      "source": [
        "biop2 = pd.read_csv(os.path.join(f_path, number_subject[0], list_file1[2], list_file2[0], list_file3[0]  + '.txt'), sep=\"\\t\", header=None, skiprows=3)\n",
        "biop2 = pre_biop(biop2)\n",
        "biop2 = add_timeframe(biop2, start2, end2)"
      ]
    },
    {
      "cell_type": "code",
      "execution_count": 812,
      "metadata": {},
      "outputs": [],
      "source": [
        "biop3 = pd.read_csv(os.path.join(f_path, number_subject[0], list_file1[2], list_file2[0], list_file3[0]  + '.txt'), sep=\"\\t\", header=None, skiprows=3)\n",
        "biop3 = pre_biop(biop3)\n",
        "biop3 = add_timeframe(biop3, start3, end3)"
      ]
    },
    {
      "cell_type": "markdown",
      "metadata": {
        "id": "irN7K-DgUS53"
      },
      "source": [
        "- ECG(Electrocardiography) :  recording of the heart's electrical activity.\n",
        "- EDA(Electrodermal activity, GSR): detecting the state of sweat glands in the skin(Sweating is controlled by the sympathetic nervous system).\n",
        "- SPO2: measuring the oxygen saturation level\n",
        "- EMG(Electromuograhpy): recording the electrical activity produced by skeletal muscles.\n",
        "- BVP(Blood Volume Pulse): measuring changes in the arterial translucency\n"
      ]
    },
    {
      "attachments": {},
      "cell_type": "markdown",
      "metadata": {
        "id": "Am9z3CHs-6RL"
      },
      "source": [
        "### 2.4 simulator (loading + converting)"
      ]
    },
    {
      "cell_type": "code",
      "execution_count": 813,
      "metadata": {},
      "outputs": [],
      "source": [
        "def covert_data1(dataset):\n",
        "      result_list = []\n",
        "      frame = dataset['frame']\n",
        "      frames = pd.DataFrame(frame['frame'])\n",
        "      time_elapsed = pd.DataFrame(np.array(range(0,len(frames)-1))/60)\n",
        "      driver_data = dataset['data']\n",
        "      ED_acc_pedal_pos = pd.DataFrame(driver_data['CFS_Accelerator_Pedal_Position']).transpose()\n",
        "      ED_brake_pedal_force_kg = pd.DataFrame(driver_data['CFS_Brake_Pedal_Force']).transpose()*  0.45\n",
        "      ED_steering_wheel_angle_deg = pd.DataFrame(driver_data['CFS_Steering_Wheel_Angle']).transpose()\n",
        "      ED_steering_wheel_angle_rate_dps = pd.DataFrame(driver_data['CFS_Steering_Wheel_Angle_Rate']).transpose()\n",
        "      ED_speed_mph = round(pd.DataFrame(driver_data['VDS_Veh_Speed'])* 0.447 , 2).transpose()\n",
        "      Info = driver_data['SCC_Follow_Info']\n",
        "      LV_ID = pd.DataFrame(Info[0])\n",
        "      LV_time_gap_s = pd.DataFrame(Info[2])\n",
        "      TTC = pd.DataFrame(Info[4])\n",
        "      LV_spacing_m = round(pd.DataFrame(Info[1]) * 0.3048, 2) #m/s\n",
        "      LV_frspacing_m = round(pd.DataFrame(Info[3]) * 0.3048, 2) #m/s\n",
        "      LV_speed_mps = round(pd.DataFrame(Info[5]) * 0.3048, 2) #m/s\n",
        "      lane = driver_data['SCC_Lane_Deviation']\n",
        "      lane_or_cor = pd.DataFrame(lane[0])      \n",
        "      lane_id = pd.DataFrame(lane[3])\n",
        "      lane_offset_m = round(pd.DataFrame(lane[1]) * 0.3048, 3) #m/s\n",
        "      lane_width_m = round(pd.DataFrame(lane[2]) * 0.3048, 2) #m/s\n",
        "      position = driver_data['VDS_Chassis_CG_Position']\n",
        "      ED_x_m = round(pd.DataFrame(position[1])* 0.3048, 3) #m/s\n",
        "      ED_y_m = round(pd.DataFrame(position[0])* 0.3048, 2) #m/s     \n",
        "      ED_z_m = round(pd.DataFrame(position[2])* 0.3048, 2) #m/s\n",
        "      turn = pd.DataFrame(driver_data['CIS_Turn_Signal']).transpose()\n",
        "      result = pd.concat([frames,time_elapsed,ED_acc_pedal_pos,ED_brake_pedal_force_kg,\n",
        "                   ED_steering_wheel_angle_deg, ED_steering_wheel_angle_rate_dps,\n",
        "                   ED_speed_mph, LV_ID, LV_time_gap_s ,TTC,\n",
        "                   LV_spacing_m,LV_frspacing_m,LV_speed_mps,\n",
        "                   lane_or_cor,lane_id,lane_offset_m,lane_width_m,\n",
        "                   ED_x_m,ED_y_m,ED_z_m], axis=1)\n",
        "      result.columns= ['frames','time_elapsed','ED_acc_pedal_pos','ED_brake_pedal_force_kg',\n",
        "                   'ED_steering_wheel_angle_deg','ED_steering_wheel_angle_rate_dps',\n",
        "                   'ED_speed_mph','LV_ID','LV_time_gap_s',\"TTC\",\n",
        "                   'LV_spacing_m','LV_frspacing_m','LV_speed_mps',\n",
        "                   'lane_or_cor','lane_id','lane_offset_m','lane_width_m',\n",
        "                   'ED_x_m','ED_y_m','ED_z_m']\n",
        "      result = result[2:-1]\n",
        "      return result"
      ]
    },
    {
      "cell_type": "code",
      "execution_count": 814,
      "metadata": {},
      "outputs": [],
      "source": [
        "def covert_data2(dataset, scenario):\n",
        "      result_list = []\n",
        "      frame = dataset['frame']\n",
        "      frames = pd.DataFrame(frame['frame'])\n",
        "      time_elapsed = pd.DataFrame(np.array(range(0,len(frames)-1))/60)\n",
        "      driver_data = dataset['data']\n",
        "      ED_acc_pedal_pos = pd.DataFrame(driver_data['CFS_Accelerator_Pedal_Position']).transpose()\n",
        "      ED_brake_pedal_force_kg = pd.DataFrame(driver_data['CFS_Brake_Pedal_Force']).transpose()*  0.45\n",
        "      ED_steering_wheel_angle_deg = pd.DataFrame(driver_data['CFS_Steering_Wheel_Angle']).transpose()\n",
        "      ED_steering_wheel_angle_rate_dps = pd.DataFrame(driver_data['CFS_Steering_Wheel_Angle_Rate']).transpose()\n",
        "      ED_speed_mph = round(pd.DataFrame(driver_data['VDS_Veh_Speed'])* 0.447 , 2).transpose()\n",
        "      Info = driver_data['SCC_Follow_Info']\n",
        "      LV_ID = pd.DataFrame(Info[0])\n",
        "      LV_time_gap_s = pd.DataFrame(Info[2])\n",
        "      TTC = pd.DataFrame(Info[4])\n",
        "      LV_spacing_m = round(pd.DataFrame(Info[1]) * 0.3048, 2) #m/s\n",
        "      LV_frspacing_m = round(pd.DataFrame(Info[3]) * 0.3048, 2) #m/s\n",
        "      LV_speed_mps = round(pd.DataFrame(Info[5]) * 0.3048, 2) #m/s\n",
        "      lane = driver_data['SCC_Lane_Deviation']\n",
        "      lane_or_cor = pd.DataFrame(lane[0])      \n",
        "      lane_id = pd.DataFrame(lane[3])\n",
        "      lane_offset_m = round(pd.DataFrame(lane[1]) * 0.3048, 3) #m/s\n",
        "      lane_width_m = round(pd.DataFrame(lane[2]) * 0.3048, 2) #m/s\n",
        "      position = driver_data['VDS_Chassis_CG_Position']\n",
        "      ED_x_m = round(pd.DataFrame(position[1])* 0.3048, 3) #m/s\n",
        "      ED_y_m = round(pd.DataFrame(position[0])* 0.3048, 2) #m/s     \n",
        "      ED_z_m = round(pd.DataFrame(position[2])* 0.3048, 2) #m/s\n",
        "      turn = pd.DataFrame(driver_data['CIS_Turn_Signal']).transpose()\n",
        "      result = pd.concat([frames,time_elapsed,ED_acc_pedal_pos,ED_brake_pedal_force_kg,\n",
        "                   ED_steering_wheel_angle_deg, ED_steering_wheel_angle_rate_dps,\n",
        "                   ED_speed_mph, LV_ID, LV_time_gap_s ,TTC,\n",
        "                   LV_spacing_m,LV_frspacing_m,LV_speed_mps,\n",
        "                   lane_or_cor,lane_id,lane_offset_m,lane_width_m,\n",
        "                   ED_x_m,ED_y_m,ED_z_m], axis=1)\n",
        "      result.columns= ['frames','time_elapsed','ED_acc_pedal_pos','ED_brake_pedal_force_kg',\n",
        "                   'ED_steering_wheel_angle_deg','ED_steering_wheel_angle_rate_dps',\n",
        "                   'ED_speed_mph','LV_ID','LV_time_gap_s',\"TTC\",\n",
        "                   'LV_spacing_m','LV_frspacing_m','LV_speed_mps',\n",
        "                   'lane_or_cor','lane_id','lane_offset_m','lane_width_m',\n",
        "                   'ED_x_m','ED_y_m','ED_z_m']\n",
        "      result = result[2:-1]\n",
        "\n",
        "      frame = pd.DataFrame(dataset['dynobjs']['A1']['frames']) #frame\n",
        "      lane = pd.DataFrame(dataset['data']['SCC_Lane_Deviation'][3]) #lane number \n",
        "      lead_AV = pd.DataFrame(dataset['dynobjs']['LeadAV']['speed']).transpose()/0.3048\n",
        "      A1 = pd.DataFrame(dataset['dynobjs']['A1']['speed']).transpose()/0.3048\n",
        "      A2 = pd.DataFrame(dataset['dynobjs']['A2']['speed']).transpose()/0.3048\n",
        "      A3 = pd.DataFrame(dataset['dynobjs']['A3']['speed']).transpose()/0.3048\n",
        "      H1 = pd.DataFrame(dataset['dynobjs']['H1']['speed']).transpose()/0.3048\n",
        "      H2 = pd.DataFrame(dataset['dynobjs']['H2']['speed']).transpose()/0.3048\n",
        "      H3 = pd.DataFrame(dataset['dynobjs']['H3']['speed']).transpose()/0.3048\n",
        "      speed_info = pd.concat([frame, lane, lead_AV, A1, A2, A3, H1, H2, H3], axis=1)\n",
        "      speed_info.columns= ['frame','lane','lead_AV','A1', 'A2', 'A3', 'H1', 'H2', 'H3']\n",
        "\n",
        "      dev = pd.DataFrame(dataset['data']['SCC_Follow_Info'][0])\n",
        "      dev.columns = ['lead_id']\n",
        "      dev['lead_id_up'] = dev.lead_id.shift(-1)\n",
        "      dev['diff'] = dev['lead_id'] - dev['lead_id_up'] \n",
        "      rest1_start = dev[(abs(dev['diff'])>2)&(dev['lead_id_up']==-1)].index[0]\n",
        "      rest2_start = dev[(abs(dev['diff'])>2)&(dev['lead_id_up']==-1)].index[1]\n",
        "      section3_end = dev[(abs(dev['diff'])>2)&(dev['lead_id_up']==-1)].index[2]\n",
        "      zone1_start=dev[(abs(dev['diff'])>2)&(dev['lead_id_up']!=-1)].index[0]\n",
        "      zone1_end= rest1_start-1\n",
        "      rest1_end=dev[(abs(dev['diff'])>2)&(dev['lead_id_up']!=-1)].index[1]-1\n",
        "      section1_start=dev[(abs(dev['diff'])>2)&(dev['lead_id_up']!=-1)].index[1]\n",
        "      section1_end=dev[(abs(dev['diff'])>2)&(dev['lead_id_up']!=-1)].index[2]-1\n",
        "      section2_start=dev[(abs(dev['diff'])>2)&(dev['lead_id_up']!=-1)].index[2]\n",
        "      section2_end=rest2_start-1\n",
        "      rest2_end=dev[(abs(dev['diff'])>2)&(dev['lead_id_up']!=-1)].index[3]-1\n",
        "      section3_start=dev[(abs(dev['diff'])>2)&(dev['lead_id_up']!=-1)].index[3]\n",
        "      section_info = (zone1_start, zone1_end,rest1_start,rest1_end,section1_start,section1_end,section2_start,section2_end,rest2_start,rest2_end,section3_start,section3_end)\n",
        "      \n",
        "      speed_info['section'] = 0\n",
        "      speed_info['section'][section_info[0]:section_info[1]] = \"Zone1\"\n",
        "      speed_info['section'][section_info[2]:section_info[3]] = \"Rest1\"\n",
        "      speed_info['section'][section_info[4]:section_info[5]] = \"Zone2(Section1)\"\n",
        "      speed_info['section'][section_info[6]:section_info[7]] = \"Zone2(Section2)\"\n",
        "      speed_info['section'][section_info[8]:section_info[9]] = \"Rest2\"\n",
        "      speed_info['section'][section_info[10]:section_info[11]] = \"Zone2(Section3)\"\n",
        "      speed_info['section'][section_info[11]+1:] =  \"Rest3\"\n",
        "      \n",
        "      speed_info['lead']='0'\n",
        "\n",
        "      if scenario == 'Unmarked':\n",
        "        speed_info.loc[speed_info['section']==\"Zone1\", 'lead'] = \"lead_AV\"\n",
        "        speed_info.loc[(speed_info['section']==\"Zone2(Section1)\")&(speed_info['lane']==0), 'lead'] = \"A1\"#A1\n",
        "        speed_info.loc[(speed_info['section']==\"Zone2(Section1)\")&(speed_info['lane']==1), 'lead'] = \"H1\"#H1\n",
        "        speed_info.loc[(speed_info['section']==\"Zone2(Section2)\")&(speed_info['lane']==0), 'lead'] = \"A2\"#A2\n",
        "        speed_info.loc[(speed_info['section']==\"Zone2(Section2)\")&(speed_info['lane']==1), 'lead'] = \"H2\"#H2\n",
        "        speed_info.loc[(speed_info['section']==\"Zone2(Section3)\")&(speed_info['lane']==0), 'lead'] = \"H3\"#H3\n",
        "        speed_info.loc[(speed_info['section']==\"Zone2(Section3)\")&(speed_info['lane']==1), 'lead'] = \"A3\"#A3\n",
        "\n",
        "      else:\n",
        "        speed_info.loc[speed_info['section']==\"Zone1\", 'lead'] = \"lead_AV\"\n",
        "        speed_info.loc[(speed_info['section']==\"Zone2(Section1)\")&(speed_info['lane']==0), 'lead'] = \"H1\"#H1\n",
        "        speed_info.loc[(speed_info['section']==\"Zone2(Section1)\")&(speed_info['lane']==1), 'lead'] = \"A1\"#A1\n",
        "        speed_info.loc[(speed_info['section']==\"Zone2(Section2)\")&(speed_info['lane']==0), 'lead'] = \"A2\"#A2\n",
        "        speed_info.loc[(speed_info['section']==\"Zone2(Section2)\")&(speed_info['lane']==1), 'lead'] = \"H2\"#H2\n",
        "        speed_info.loc[(speed_info['section']==\"Zone2(Section3)\")&(speed_info['lane']==0), 'lead'] = \"H3\"#H3\n",
        "        speed_info.loc[(speed_info['section']==\"Zone2(Section3)\")&(speed_info['lane']==1), 'lead'] = \"A3\"#A3\n",
        "        \n",
        "\n",
        "      speed_info['lead_speed1']=0\n",
        "      speed_info.loc[(speed_info['lead']==\"lead_AV\"), 'lead_speed1'] = speed_info.loc[(speed_info['lead']==\"lead_AV\"), 'lead_AV'] \n",
        "      speed_info.loc[(speed_info['lead']==\"A1\"), 'lead_speed1'] = speed_info.loc[(speed_info['lead']==\"A1\"), 'A1'] \n",
        "      speed_info.loc[(speed_info['lead']==\"A2\"), 'lead_speed1'] = speed_info.loc[(speed_info['lead']==\"A2\"), 'A2'] \n",
        "      speed_info.loc[(speed_info['lead']==\"A3\"), 'lead_speed1'] = speed_info.loc[(speed_info['lead']==\"A3\"), 'A3'] \n",
        "      speed_info.loc[(speed_info['lead']==\"H1\"), 'lead_speed1'] = speed_info.loc[(speed_info['lead']==\"H1\"), 'A1'] \n",
        "      speed_info.loc[(speed_info['lead']==\"H2\"), 'lead_speed1'] = speed_info.loc[(speed_info['lead']==\"H2\"), 'A2'] \n",
        "      speed_info.loc[(speed_info['lead']==\"H3\"), 'lead_speed1'] = speed_info.loc[(speed_info['lead']==\"H3\"), 'A3'] \n",
        "\n",
        "      speed_info['lead_speed2']=0\n",
        "      speed_info.loc[(speed_info['lead']==\"lead_AV\"), 'lead_speed2'] = speed_info.loc[(speed_info['lead']==\"lead_AV\"), 'lead_AV'] \n",
        "      speed_info.loc[(speed_info['lead']==\"A1\"), 'lead_speed2'] = speed_info.loc[(speed_info['lead']==\"A1\"), 'H1'] \n",
        "      speed_info.loc[(speed_info['lead']==\"A2\"), 'lead_speed2'] = speed_info.loc[(speed_info['lead']==\"A2\"), 'H2'] \n",
        "      speed_info.loc[(speed_info['lead']==\"A3\"), 'lead_speed2'] = speed_info.loc[(speed_info['lead']==\"A3\"), 'H3'] \n",
        "      speed_info.loc[(speed_info['lead']==\"H1\"), 'lead_speed2'] = speed_info.loc[(speed_info['lead']==\"H1\"), 'H1'] \n",
        "      speed_info.loc[(speed_info['lead']==\"H2\"), 'lead_speed2'] = speed_info.loc[(speed_info['lead']==\"H2\"), 'H2'] \n",
        "      speed_info.loc[(speed_info['lead']==\"H3\"), 'lead_speed2'] = speed_info.loc[(speed_info['lead']==\"H3\"), 'H3'] \n",
        "      \n",
        "      speed_info = speed_info[1:-1]\n",
        "      result = pd.concat([result, speed_info], axis=1)\n",
        "      result = result[1:]\n",
        "\n",
        "\n",
        "      return result"
      ]
    },
    {
      "cell_type": "code",
      "execution_count": 815,
      "metadata": {},
      "outputs": [],
      "source": [
        "def pre_sim(dataset):\n",
        "    dataset = dataset.iloc[:,2:]\n",
        "    return dataset"
      ]
    },
    {
      "cell_type": "code",
      "execution_count": 816,
      "metadata": {},
      "outputs": [],
      "source": [
        "sim1 = h5py.File(os.path.join(f_path, number_subject[0], list_file1[1], list_file3[0] + '.hdf5'),'r')\n",
        "sim1  = covert_data1(sim1)\n",
        "sim1 = pre_sim(sim1)\n",
        "sim1 = sim1.reset_index()\n",
        "sim1 = add_timeframe(sim1, d_start1, d_end1)\n",
        "sim1 = sim1.iloc[:,[0,2,3,4,5,6,7,8,9,10,11,12,13,14,15,16,17,18,19]]"
      ]
    },
    {
      "cell_type": "code",
      "execution_count": 817,
      "metadata": {},
      "outputs": [
        {
          "name": "stderr",
          "output_type": "stream",
          "text": [
            "/var/folders/6q/9fzsg4vx5cg_z675k057qgr80000gn/T/ipykernel_70570/725382041.py:74: SettingWithCopyWarning: \n",
            "A value is trying to be set on a copy of a slice from a DataFrame\n",
            "\n",
            "See the caveats in the documentation: https://pandas.pydata.org/pandas-docs/stable/user_guide/indexing.html#returning-a-view-versus-a-copy\n",
            "  speed_info['section'][section_info[0]:section_info[1]] = \"Zone1\"\n"
          ]
        }
      ],
      "source": [
        "sim2 = h5py.File(os.path.join(f_path, number_subject[0], list_file1[1], list_file3[1] + '.hdf5'),'r')\n",
        "sim2  = covert_data2(sim2,'Unmarked')\n",
        "sim2 = pre_sim(sim2)\n",
        "sim2 = sim2.reset_index()\n",
        "sim2 = add_timeframe(sim2, d_start2, d_end2)\n",
        "sim2 = sim2.iloc[:,[0,2,3,4,5,6,7,8,9,10,11,12,13,14,15,16,17,18,19,20,21,22,23,24,25,26,27,28,29,30,31,32]]"
      ]
    },
    {
      "cell_type": "code",
      "execution_count": 818,
      "metadata": {},
      "outputs": [
        {
          "name": "stderr",
          "output_type": "stream",
          "text": [
            "/var/folders/6q/9fzsg4vx5cg_z675k057qgr80000gn/T/ipykernel_70570/725382041.py:74: SettingWithCopyWarning: \n",
            "A value is trying to be set on a copy of a slice from a DataFrame\n",
            "\n",
            "See the caveats in the documentation: https://pandas.pydata.org/pandas-docs/stable/user_guide/indexing.html#returning-a-view-versus-a-copy\n",
            "  speed_info['section'][section_info[0]:section_info[1]] = \"Zone1\"\n"
          ]
        }
      ],
      "source": [
        "sim3 = h5py.File(os.path.join(f_path, number_subject[0], list_file1[1], list_file3[2] + '.hdf5'),'r')\n",
        "\n",
        "sim3  = covert_data2(sim3,'Marked')\n",
        "sim3 = pre_sim(sim3)\n",
        "sim3 = sim3.reset_index()\n",
        "sim3 = add_timeframe(sim3, d_start3, d_end3)\n",
        "sim3 = sim3.iloc[:,[0,2,3,4,5,6,7,8,9,10,11,12,13,14,15,16,17,18,19,20,21,22,23,24,25,26,27,28,29,30,31,32]]"
      ]
    },
    {
      "cell_type": "markdown",
      "metadata": {
        "id": "7hPVPAne5krz"
      },
      "source": [
        "## [3] merge(eye + eeg + bioplux)"
      ]
    },
    {
      "attachments": {},
      "cell_type": "markdown",
      "metadata": {
        "id": "xQ9TZqOs_JvS"
      },
      "source": [
        "### 3.1 remove the data before and after driving"
      ]
    },
    {
      "cell_type": "code",
      "execution_count": 819,
      "metadata": {},
      "outputs": [],
      "source": [
        "def pre_rem(dataset,start, end, n):\n",
        "    dataset = dataset[(dataset['timeframe'] >start)&(dataset['timeframe'] <end)]\n",
        "    a = signal.resample(dataset.iloc[:,1:], n)\n",
        "    dataset = pd.DataFrame(a, columns = dataset.iloc[:,1:].columns)\n",
        "    return dataset"
      ]
    },
    {
      "cell_type": "code",
      "execution_count": 820,
      "metadata": {},
      "outputs": [],
      "source": [
        "eye1_fft = pre_rem(eye1, d_start1, d_end1, sim1.shape[0])\n",
        "eeg1_fft = pre_rem(eeg1, d_start1, d_end1, sim1.shape[0])\n",
        "biop1_fft = pre_rem(biop1, d_start1, d_end1, sim1.shape[0])\n"
      ]
    },
    {
      "cell_type": "code",
      "execution_count": 821,
      "metadata": {},
      "outputs": [],
      "source": [
        "eye2_fft = pre_rem(eye2, d_start2, d_end2, sim2.shape[0])\n",
        "eeg2_fft = pre_rem(eeg2, d_start2, d_end2, sim2.shape[0])\n",
        "biop2_fft = pre_rem(biop2, d_start2, d_end2, sim2.shape[0])"
      ]
    },
    {
      "cell_type": "code",
      "execution_count": 822,
      "metadata": {},
      "outputs": [],
      "source": [
        "eye3_fft = pre_rem(eye3, d_start3, d_end3, sim3.shape[0])\n",
        "eeg3_fft = pre_rem(eeg3, d_start3, d_end3, sim3.shape[0])\n",
        "biop3_fft = pre_rem(biop3, d_start3, d_end3, sim3.shape[0])"
      ]
    },
    {
      "cell_type": "code",
      "execution_count": 823,
      "metadata": {
        "id": "t_kuYVaQpZrx"
      },
      "outputs": [],
      "source": [
        "final_S1 = pd.concat((sim1, eye1_fft, eeg1_fft, biop1_fft), axis=1)"
      ]
    },
    {
      "cell_type": "code",
      "execution_count": 824,
      "metadata": {
        "colab": {
          "base_uri": "https://localhost:8080/",
          "height": 374
        },
        "id": "BrwK8wN8IPye",
        "outputId": "6eacbbed-5e7b-473c-b7c8-49467606feca"
      },
      "outputs": [],
      "source": [
        "final_S2 = pd.concat((sim2, eye2_fft, eeg2_fft, biop2_fft), axis=1)"
      ]
    },
    {
      "cell_type": "code",
      "execution_count": 825,
      "metadata": {},
      "outputs": [],
      "source": [
        "final_S3 = pd.concat((sim3, eye3_fft, eeg3_fft, biop3_fft), axis=1)"
      ]
    },
    {
      "cell_type": "markdown",
      "metadata": {
        "id": "LVxH3UlOw8xy"
      },
      "source": [
        "## [4] save"
      ]
    },
    {
      "cell_type": "code",
      "execution_count": 826,
      "metadata": {},
      "outputs": [],
      "source": [
        "\n",
        "f_path = r\"/Users/yujinpark/Desktop/AVD/trajectories2\"\n"
      ]
    },
    {
      "cell_type": "code",
      "execution_count": 827,
      "metadata": {
        "id": "K9KpvniPw-L5"
      },
      "outputs": [],
      "source": [
        "final_S1.to_csv(os.path.join(f_path , number_subject[0] +'_' + list_file3[0] +'_' + 'final.csv')) # , index = False)"
      ]
    },
    {
      "cell_type": "code",
      "execution_count": 828,
      "metadata": {},
      "outputs": [],
      "source": [
        "final_S2.to_csv(os.path.join(f_path , number_subject[0] +'_' + list_file3[1] +'_' + 'final.csv')) # , index = False)"
      ]
    },
    {
      "cell_type": "code",
      "execution_count": 829,
      "metadata": {},
      "outputs": [],
      "source": [
        "final_S3.to_csv(os.path.join(f_path , number_subject[0] +'_' + list_file3[2] +'_' + 'final.csv')) # , index = False)"
      ]
    },
    {
      "cell_type": "markdown",
      "metadata": {},
      "source": []
    },
    {
      "cell_type": "code",
      "execution_count": null,
      "metadata": {
        "id": "-w5A-Hmr5muC"
      },
      "outputs": [],
      "source": []
    },
    {
      "cell_type": "code",
      "execution_count": null,
      "metadata": {
        "id": "IXNX84Vo5myl"
      },
      "outputs": [],
      "source": []
    },
    {
      "cell_type": "code",
      "execution_count": null,
      "metadata": {
        "id": "eJeW8UKa5m1w"
      },
      "outputs": [],
      "source": []
    }
  ],
  "metadata": {
    "accelerator": "GPU",
    "colab": {
      "machine_shape": "hm",
      "provenance": []
    },
    "gpuClass": "premium",
    "kernelspec": {
      "display_name": "base",
      "language": "python",
      "name": "python3"
    },
    "language_info": {
      "codemirror_mode": {
        "name": "ipython",
        "version": 3
      },
      "file_extension": ".py",
      "mimetype": "text/x-python",
      "name": "python",
      "nbconvert_exporter": "python",
      "pygments_lexer": "ipython3",
      "version": "3.10.9"
    },
    "vscode": {
      "interpreter": {
        "hash": "81b4ad155c9c25570dc0246b1d6fb5ef51f2830cb2ca16dd54ca1de84d393ddd"
      }
    }
  },
  "nbformat": 4,
  "nbformat_minor": 0
}

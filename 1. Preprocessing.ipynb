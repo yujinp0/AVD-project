{
  "cells": [
    {
      "cell_type": "markdown",
      "metadata": {
        "id": "8Rtl3K2WpUUl"
      },
      "source": [
        "## [1] load packages \n",
        "- bioplux: 400\n",
        "- eeg: 128\n",
        "- eyetracking: 256"
      ]
    },
    {
      "cell_type": "code",
      "execution_count": 1,
      "metadata": {
        "id": "s2gVsuc8khbT"
      },
      "outputs": [],
      "source": [
        "import numpy as np\n",
        "import sys\n",
        "import h5py\n",
        "import pandas as pd\n",
        "import sys\n",
        "import os\n",
        "import matplotlib\n",
        "import matplotlib.pyplot as plt\n",
        "\n",
        "from datetime import datetime"
      ]
    },
    {
      "cell_type": "code",
      "execution_count": 2,
      "metadata": {},
      "outputs": [],
      "source": [
        "import signal"
      ]
    },
    {
      "cell_type": "markdown",
      "metadata": {
        "id": "NpWvTL4dplll"
      },
      "source": [
        "## [2] load dataset"
      ]
    },
    {
      "attachments": {},
      "cell_type": "markdown",
      "metadata": {},
      "source": [
        "### 2.2 load the time fromae"
      ]
    },
    {
      "attachments": {},
      "cell_type": "markdown",
      "metadata": {
        "id": "Am9z3CHs-6RL"
      },
      "source": [
        "### 2.4 simulator (loading + converting)"
      ]
    },
    {
      "cell_type": "code",
      "execution_count": 3,
      "metadata": {},
      "outputs": [],
      "source": [
        "def covert_data1(dataset):\n",
        "      result_list = []\n",
        "      frame = dataset['frame']\n",
        "      frames = pd.DataFrame(frame['frame'])\n",
        "      time_elapsed = pd.DataFrame(np.array(range(0,len(frames)-1))/60)\n",
        "      driver_data = dataset['data']\n",
        "      ED_acc_pedal_pos = pd.DataFrame(driver_data['CFS_Accelerator_Pedal_Position']).transpose()\n",
        "      ED_brake_pedal_force_kg = pd.DataFrame(driver_data['CFS_Brake_Pedal_Force']).transpose()*  0.45\n",
        "      ED_steering_wheel_angle_deg = pd.DataFrame(driver_data['CFS_Steering_Wheel_Angle']).transpose()\n",
        "      ED_steering_wheel_angle_rate_dps = pd.DataFrame(driver_data['CFS_Steering_Wheel_Angle_Rate']).transpose()\n",
        "      ED_speed_mph = round(pd.DataFrame(driver_data['VDS_Veh_Speed'])* 0.447 , 2).transpose()\n",
        "      Info = driver_data['SCC_Follow_Info']\n",
        "      LV_ID = pd.DataFrame(Info[0])\n",
        "      LV_time_gap_s = pd.DataFrame(Info[2])\n",
        "      TTC = pd.DataFrame(Info[4])\n",
        "      LV_spacing_m = round(pd.DataFrame(Info[1]) * 0.3048, 2) #m/s\n",
        "      LV_frspacing_m = round(pd.DataFrame(Info[3]) * 0.3048, 2) #m/s\n",
        "      LV_speed_mps = round(pd.DataFrame(Info[5]) * 0.3048, 2) #m/s\n",
        "      lane = driver_data['SCC_Lane_Deviation']\n",
        "      lane_or_cor = pd.DataFrame(lane[0])      \n",
        "      lane_id = pd.DataFrame(lane[3])\n",
        "      lane_offset_m = round(pd.DataFrame(lane[1]) * 0.3048, 3) #m/s\n",
        "      lane_width_m = round(pd.DataFrame(lane[2]) * 0.3048, 2) #m/s\n",
        "      position = driver_data['VDS_Chassis_CG_Position']\n",
        "      ED_x_m = round(pd.DataFrame(position[1])* 0.3048, 3) #m/s\n",
        "      ED_y_m = round(pd.DataFrame(position[0])* 0.3048, 2) #m/s     \n",
        "      ED_z_m = round(pd.DataFrame(position[2])* 0.3048, 2) #m/s\n",
        "      turn = pd.DataFrame(driver_data['CIS_Turn_Signal']).transpose()\n",
        "      result = pd.concat([frames,time_elapsed,ED_acc_pedal_pos,ED_brake_pedal_force_kg,\n",
        "                   ED_steering_wheel_angle_deg, ED_steering_wheel_angle_rate_dps,\n",
        "                   ED_speed_mph, LV_ID, LV_time_gap_s ,TTC,\n",
        "                   LV_spacing_m,LV_frspacing_m,LV_speed_mps,\n",
        "                   lane_or_cor,lane_id,lane_offset_m,lane_width_m,\n",
        "                   ED_x_m,ED_y_m,ED_z_m], axis=1)\n",
        "      result.columns= ['frames','time_elapsed','ED_acc_pedal_pos','ED_brake_pedal_force_kg',\n",
        "                   'ED_steering_wheel_angle_deg','ED_steering_wheel_angle_rate_dps',\n",
        "                   'ED_speed_mph','LV_ID','LV_time_gap_s',\"TTC\",\n",
        "                   'LV_spacing_m','LV_frspacing_m','LV_speed_mps',\n",
        "                   'lane_or_cor','lane_id','lane_offset_m','lane_width_m',\n",
        "                   'ED_x_m','ED_y_m','ED_z_m']\n",
        "      result = result[2:-1]\n",
        "      return result"
      ]
    },
    {
      "cell_type": "code",
      "execution_count": 4,
      "metadata": {},
      "outputs": [],
      "source": [
        "def covert_data2(dataset, scenario):\n",
        "      result_list = []\n",
        "      frame = dataset['frame']\n",
        "      frames = pd.DataFrame(frame['frame'])\n",
        "      time_elapsed = pd.DataFrame(np.array(range(0,len(frames)-1))/60)\n",
        "      driver_data = dataset['data']\n",
        "      ED_acc_pedal_pos = pd.DataFrame(driver_data['CFS_Accelerator_Pedal_Position']).transpose()\n",
        "      ED_brake_pedal_force_kg = pd.DataFrame(driver_data['CFS_Brake_Pedal_Force']).transpose()*  0.45\n",
        "      ED_steering_wheel_angle_deg = pd.DataFrame(driver_data['CFS_Steering_Wheel_Angle']).transpose()\n",
        "      ED_steering_wheel_angle_rate_dps = pd.DataFrame(driver_data['CFS_Steering_Wheel_Angle_Rate']).transpose()\n",
        "      ED_speed_mph = round(pd.DataFrame(driver_data['VDS_Veh_Speed'])* 0.447 , 2).transpose()\n",
        "      Info = driver_data['SCC_Follow_Info']\n",
        "      LV_ID = pd.DataFrame(Info[0])\n",
        "      LV_time_gap_s = pd.DataFrame(Info[2])\n",
        "      TTC = pd.DataFrame(Info[4])\n",
        "      LV_spacing_m = round(pd.DataFrame(Info[1]) * 0.3048, 2) #m/s\n",
        "      LV_frspacing_m = round(pd.DataFrame(Info[3]) * 0.3048, 2) #m/s\n",
        "      LV_speed_mps = round(pd.DataFrame(Info[5]) * 0.3048, 2) #m/s\n",
        "      lane = driver_data['SCC_Lane_Deviation']\n",
        "      lane_or_cor = pd.DataFrame(lane[0])      \n",
        "      lane_id = pd.DataFrame(lane[3])\n",
        "      lane_offset_m = round(pd.DataFrame(lane[1]) * 0.3048, 3) #m/s\n",
        "      lane_width_m = round(pd.DataFrame(lane[2]) * 0.3048, 2) #m/s\n",
        "      position = driver_data['VDS_Chassis_CG_Position']\n",
        "      ED_x_m = round(pd.DataFrame(position[1])* 0.3048, 3) #m/s\n",
        "      ED_y_m = round(pd.DataFrame(position[0])* 0.3048, 2) #m/s     \n",
        "      ED_z_m = round(pd.DataFrame(position[2])* 0.3048, 2) #m/s\n",
        "      turn = pd.DataFrame(driver_data['CIS_Turn_Signal']).transpose()\n",
        "      result = pd.concat([frames,time_elapsed,ED_acc_pedal_pos,ED_brake_pedal_force_kg,\n",
        "                   ED_steering_wheel_angle_deg, ED_steering_wheel_angle_rate_dps,\n",
        "                   ED_speed_mph, LV_ID, LV_time_gap_s ,TTC,\n",
        "                   LV_spacing_m,LV_frspacing_m,LV_speed_mps,\n",
        "                   lane_or_cor,lane_id,lane_offset_m,lane_width_m,\n",
        "                   ED_x_m,ED_y_m,ED_z_m], axis=1)\n",
        "      result.columns= ['frames','time_elapsed','ED_acc_pedal_pos','ED_brake_pedal_force_kg',\n",
        "                   'ED_steering_wheel_angle_deg','ED_steering_wheel_angle_rate_dps',\n",
        "                   'ED_speed_mph','LV_ID','LV_time_gap_s',\"TTC\",\n",
        "                   'LV_spacing_m','LV_frspacing_m','LV_speed_mps',\n",
        "                   'lane_or_cor','lane_id','lane_offset_m','lane_width_m',\n",
        "                   'ED_x_m','ED_y_m','ED_z_m']\n",
        "      result = result[2:-1]\n",
        "\n",
        "      frame = pd.DataFrame(dataset['dynobjs']['A1']['frames']) #frame\n",
        "      lane = pd.DataFrame(dataset['data']['SCC_Lane_Deviation'][3]) #lane number \n",
        "      lead_AV = pd.DataFrame(dataset['dynobjs']['LeadAV']['speed']).transpose()/0.3048\n",
        "      A1 = pd.DataFrame(dataset['dynobjs']['A1']['speed']).transpose()/0.3048\n",
        "      A2 = pd.DataFrame(dataset['dynobjs']['A2']['speed']).transpose()/0.3048\n",
        "      A3 = pd.DataFrame(dataset['dynobjs']['A3']['speed']).transpose()/0.3048\n",
        "      H1 = pd.DataFrame(dataset['dynobjs']['H1']['speed']).transpose()/0.3048\n",
        "      H2 = pd.DataFrame(dataset['dynobjs']['H2']['speed']).transpose()/0.3048\n",
        "      H3 = pd.DataFrame(dataset['dynobjs']['H3']['speed']).transpose()/0.3048\n",
        "      speed_info = pd.concat([frame, lane, lead_AV, A1, A2, A3, H1, H2, H3], axis=1)\n",
        "      speed_info.columns= ['frame','lane','lead_AV','A1', 'A2', 'A3', 'H1', 'H2', 'H3']\n",
        "\n",
        "      dev = pd.DataFrame(dataset['data']['SCC_Follow_Info'][0])\n",
        "      dev.columns = ['lead_id']\n",
        "      dev['lead_id_up'] = dev.lead_id.shift(-1)\n",
        "      dev['diff'] = dev['lead_id'] - dev['lead_id_up'] \n",
        "      rest1_start = dev[(abs(dev['diff'])>2)&(dev['lead_id_up']==-1)].index[0]\n",
        "      rest2_start = dev[(abs(dev['diff'])>2)&(dev['lead_id_up']==-1)].index[1]\n",
        "      section3_end = dev[(abs(dev['diff'])>2)&(dev['lead_id_up']==-1)].index[2]\n",
        "      zone1_start=dev[(abs(dev['diff'])>2)&(dev['lead_id_up']!=-1)].index[0]\n",
        "      zone1_end= rest1_start-1\n",
        "      rest1_end=dev[(abs(dev['diff'])>2)&(dev['lead_id_up']!=-1)].index[1]-1\n",
        "      section1_start=dev[(abs(dev['diff'])>2)&(dev['lead_id_up']!=-1)].index[1]\n",
        "      section1_end=dev[(abs(dev['diff'])>2)&(dev['lead_id_up']!=-1)].index[2]-1\n",
        "      section2_start=dev[(abs(dev['diff'])>2)&(dev['lead_id_up']!=-1)].index[2]\n",
        "      section2_end=rest2_start-1\n",
        "      rest2_end=dev[(abs(dev['diff'])>2)&(dev['lead_id_up']!=-1)].index[3]-1\n",
        "      section3_start=dev[(abs(dev['diff'])>2)&(dev['lead_id_up']!=-1)].index[3]\n",
        "      section_info = (zone1_start, zone1_end,rest1_start,rest1_end,section1_start,section1_end,section2_start,section2_end,rest2_start,rest2_end,section3_start,section3_end)\n",
        "      \n",
        "      speed_info['section'] = 0\n",
        "      speed_info['section'][section_info[0]:section_info[1]] = \"Zone1\"\n",
        "      speed_info['section'][section_info[2]:section_info[3]] = \"Rest1\"\n",
        "      speed_info['section'][section_info[4]:section_info[5]] = \"Zone2(Section1)\"\n",
        "      speed_info['section'][section_info[6]:section_info[7]] = \"Zone2(Section2)\"\n",
        "      speed_info['section'][section_info[8]:section_info[9]] = \"Rest2\"\n",
        "      speed_info['section'][section_info[10]:section_info[11]] = \"Zone2(Section3)\"\n",
        "      speed_info['section'][section_info[11]+1:] =  \"Rest3\"\n",
        "      \n",
        "      speed_info['lead']='0'\n",
        "\n",
        "      if scenario == 'Unmarked':\n",
        "        speed_info.loc[speed_info['section']==\"Zone1\", 'lead'] = \"lead_AV\"\n",
        "        speed_info.loc[(speed_info['section']==\"Zone2(Section1)\")&(speed_info['lane']==0), 'lead'] = \"A1\"#A1\n",
        "        speed_info.loc[(speed_info['section']==\"Zone2(Section1)\")&(speed_info['lane']==1), 'lead'] = \"H1\"#H1\n",
        "        speed_info.loc[(speed_info['section']==\"Zone2(Section2)\")&(speed_info['lane']==0), 'lead'] = \"A2\"#A2\n",
        "        speed_info.loc[(speed_info['section']==\"Zone2(Section2)\")&(speed_info['lane']==1), 'lead'] = \"H2\"#H2\n",
        "        speed_info.loc[(speed_info['section']==\"Zone2(Section3)\")&(speed_info['lane']==0), 'lead'] = \"H3\"#H3\n",
        "        speed_info.loc[(speed_info['section']==\"Zone2(Section3)\")&(speed_info['lane']==1), 'lead'] = \"A3\"#A3\n",
        "\n",
        "      else:\n",
        "        speed_info.loc[speed_info['section']==\"Zone1\", 'lead'] = \"lead_AV\"\n",
        "        speed_info.loc[(speed_info['section']==\"Zone2(Section1)\")&(speed_info['lane']==0), 'lead'] = \"H1\"#H1\n",
        "        speed_info.loc[(speed_info['section']==\"Zone2(Section1)\")&(speed_info['lane']==1), 'lead'] = \"A1\"#A1\n",
        "        speed_info.loc[(speed_info['section']==\"Zone2(Section2)\")&(speed_info['lane']==0), 'lead'] = \"A2\"#A2\n",
        "        speed_info.loc[(speed_info['section']==\"Zone2(Section2)\")&(speed_info['lane']==1), 'lead'] = \"H2\"#H2\n",
        "        speed_info.loc[(speed_info['section']==\"Zone2(Section3)\")&(speed_info['lane']==0), 'lead'] = \"H3\"#H3\n",
        "        speed_info.loc[(speed_info['section']==\"Zone2(Section3)\")&(speed_info['lane']==1), 'lead'] = \"A3\"#A3\n",
        "        \n",
        "\n",
        "      speed_info['lead_speed1']=0\n",
        "      speed_info.loc[(speed_info['lead']==\"lead_AV\"), 'lead_speed1'] = speed_info.loc[(speed_info['lead']==\"lead_AV\"), 'lead_AV'] \n",
        "      speed_info.loc[(speed_info['lead']==\"A1\"), 'lead_speed1'] = speed_info.loc[(speed_info['lead']==\"A1\"), 'A1'] \n",
        "      speed_info.loc[(speed_info['lead']==\"A2\"), 'lead_speed1'] = speed_info.loc[(speed_info['lead']==\"A2\"), 'A2'] \n",
        "      speed_info.loc[(speed_info['lead']==\"A3\"), 'lead_speed1'] = speed_info.loc[(speed_info['lead']==\"A3\"), 'A3'] \n",
        "      speed_info.loc[(speed_info['lead']==\"H1\"), 'lead_speed1'] = speed_info.loc[(speed_info['lead']==\"H1\"), 'A1'] \n",
        "      speed_info.loc[(speed_info['lead']==\"H2\"), 'lead_speed1'] = speed_info.loc[(speed_info['lead']==\"H2\"), 'A2'] \n",
        "      speed_info.loc[(speed_info['lead']==\"H3\"), 'lead_speed1'] = speed_info.loc[(speed_info['lead']==\"H3\"), 'A3'] \n",
        "\n",
        "      speed_info['lead_speed2']=0\n",
        "      speed_info.loc[(speed_info['lead']==\"lead_AV\"), 'lead_speed2'] = speed_info.loc[(speed_info['lead']==\"lead_AV\"), 'lead_AV'] \n",
        "      speed_info.loc[(speed_info['lead']==\"A1\"), 'lead_speed2'] = speed_info.loc[(speed_info['lead']==\"A1\"), 'H1'] \n",
        "      speed_info.loc[(speed_info['lead']==\"A2\"), 'lead_speed2'] = speed_info.loc[(speed_info['lead']==\"A2\"), 'H2'] \n",
        "      speed_info.loc[(speed_info['lead']==\"A3\"), 'lead_speed2'] = speed_info.loc[(speed_info['lead']==\"A3\"), 'H3'] \n",
        "      speed_info.loc[(speed_info['lead']==\"H1\"), 'lead_speed2'] = speed_info.loc[(speed_info['lead']==\"H1\"), 'H1'] \n",
        "      speed_info.loc[(speed_info['lead']==\"H2\"), 'lead_speed2'] = speed_info.loc[(speed_info['lead']==\"H2\"), 'H2'] \n",
        "      speed_info.loc[(speed_info['lead']==\"H3\"), 'lead_speed2'] = speed_info.loc[(speed_info['lead']==\"H3\"), 'H3'] \n",
        "      \n",
        "      speed_info = speed_info[1:-1]\n",
        "      result = pd.concat([result, speed_info], axis=1)\n",
        "      result = result[1:]\n",
        "\n",
        "\n",
        "      return result"
      ]
    },
    {
      "cell_type": "code",
      "execution_count": 5,
      "metadata": {},
      "outputs": [],
      "source": [
        "def pre_sim(dataset):\n",
        "    dataset = dataset.iloc[:,2:]\n",
        "    return dataset"
      ]
    },
    {
      "cell_type": "code",
      "execution_count": 6,
      "metadata": {},
      "outputs": [
        {
          "data": {
            "text/plain": [
              "'/Users/yujinpark/Desktop/AVD/recording_code'"
            ]
          },
          "execution_count": 6,
          "metadata": {},
          "output_type": "execute_result"
        }
      ],
      "source": [
        "os.getcwd()\n"
      ]
    },
    {
      "cell_type": "code",
      "execution_count": 103,
      "metadata": {},
      "outputs": [],
      "source": [
        "f_path = r\"/Users/yujinpark/Desktop/AVD_code/Raw data\"\n",
        "list_file1=['time_frame', '1. sim', '2. bio']\n",
        "list_file2=['bio','eeg','eye']\n",
        "list_file3=['S1','S2','S3']"
      ]
    },
    {
      "cell_type": "code",
      "execution_count": 104,
      "metadata": {},
      "outputs": [],
      "source": [
        "number_subject=['P30'] # ex) P1, P2, P3, ... P40\n",
        "\n",
        "#f_path = r'C:\\Users\\minisim\\Desktop\\AV-HDV\\Raw data'"
      ]
    },
    {
      "cell_type": "code",
      "execution_count": 105,
      "metadata": {},
      "outputs": [],
      "source": [
        "sim1 = h5py.File(os.path.join(f_path, number_subject[0], list_file1[1], list_file3[0] + '.hdf5'),'r')\n",
        "sim1  = covert_data1(sim1)\n",
        "sim1 = pre_sim(sim1)\n",
        "sim1 = sim1.reset_index()"
      ]
    },
    {
      "cell_type": "code",
      "execution_count": 106,
      "metadata": {},
      "outputs": [],
      "source": [
        "# original (~p21) S1, S2, S3"
      ]
    },
    {
      "cell_type": "code",
      "execution_count": 107,
      "metadata": {},
      "outputs": [
        {
          "name": "stderr",
          "output_type": "stream",
          "text": [
            "/var/folders/6q/9fzsg4vx5cg_z675k057qgr80000gn/T/ipykernel_53097/725382041.py:74: SettingWithCopyWarning: \n",
            "A value is trying to be set on a copy of a slice from a DataFrame\n",
            "\n",
            "See the caveats in the documentation: https://pandas.pydata.org/pandas-docs/stable/user_guide/indexing.html#returning-a-view-versus-a-copy\n",
            "  speed_info['section'][section_info[0]:section_info[1]] = \"Zone1\"\n"
          ]
        }
      ],
      "source": [
        "sim2 = h5py.File(os.path.join(f_path, number_subject[0], list_file1[1], list_file3[1] + '.hdf5'),'r')\n",
        "sim2  = covert_data2(sim2,'Unmarked')\n",
        "sim2 = pre_sim(sim2)\n",
        "sim2 = sim2.reset_index()"
      ]
    },
    {
      "cell_type": "code",
      "execution_count": 108,
      "metadata": {},
      "outputs": [
        {
          "name": "stderr",
          "output_type": "stream",
          "text": [
            "/var/folders/6q/9fzsg4vx5cg_z675k057qgr80000gn/T/ipykernel_53097/725382041.py:74: SettingWithCopyWarning: \n",
            "A value is trying to be set on a copy of a slice from a DataFrame\n",
            "\n",
            "See the caveats in the documentation: https://pandas.pydata.org/pandas-docs/stable/user_guide/indexing.html#returning-a-view-versus-a-copy\n",
            "  speed_info['section'][section_info[0]:section_info[1]] = \"Zone1\"\n"
          ]
        }
      ],
      "source": [
        "sim3 = h5py.File(os.path.join(f_path, number_subject[0], list_file1[1], list_file3[2] + '.hdf5'),'r')\n",
        "sim3  = covert_data2(sim3,'Marked')\n",
        "sim3 = pre_sim(sim3)\n",
        "sim3 = sim3.reset_index()"
      ]
    },
    {
      "cell_type": "markdown",
      "metadata": {
        "id": "LVxH3UlOw8xy"
      },
      "source": [
        "## [4] save"
      ]
    },
    {
      "cell_type": "code",
      "execution_count": 109,
      "metadata": {},
      "outputs": [],
      "source": [
        "f_path = r\"/Users/yujinpark/Desktop/AVD_code/trajectories\""
      ]
    },
    {
      "cell_type": "code",
      "execution_count": 110,
      "metadata": {
        "id": "K9KpvniPw-L5"
      },
      "outputs": [],
      "source": [
        "sim1.to_csv(os.path.join(f_path , number_subject[0] +'_' + list_file3[0] +'_' + 'final.csv')) # , index = False)"
      ]
    },
    {
      "cell_type": "code",
      "execution_count": 111,
      "metadata": {},
      "outputs": [],
      "source": [
        "sim2.to_csv(os.path.join(f_path , number_subject[0] +'_' + list_file3[1] +'_' + 'final.csv')) # , index = False)"
      ]
    },
    {
      "cell_type": "code",
      "execution_count": 102,
      "metadata": {},
      "outputs": [],
      "source": [
        "sim3.to_csv(os.path.join(f_path , number_subject[0] +'_' + list_file3[2] +'_' + 'final.csv')) # , index = False)"
      ]
    },
    {
      "cell_type": "code",
      "execution_count": null,
      "metadata": {
        "id": "bHg_JI2A5mjO"
      },
      "outputs": [],
      "source": []
    },
    {
      "cell_type": "code",
      "execution_count": null,
      "metadata": {
        "id": "-w5A-Hmr5muC"
      },
      "outputs": [],
      "source": []
    },
    {
      "cell_type": "code",
      "execution_count": null,
      "metadata": {
        "id": "IXNX84Vo5myl"
      },
      "outputs": [],
      "source": []
    },
    {
      "cell_type": "code",
      "execution_count": null,
      "metadata": {
        "id": "eJeW8UKa5m1w"
      },
      "outputs": [],
      "source": []
    }
  ],
  "metadata": {
    "accelerator": "GPU",
    "colab": {
      "machine_shape": "hm",
      "provenance": []
    },
    "gpuClass": "premium",
    "kernelspec": {
      "display_name": "Python 3",
      "language": "python",
      "name": "python3"
    },
    "language_info": {
      "codemirror_mode": {
        "name": "ipython",
        "version": 3
      },
      "file_extension": ".py",
      "mimetype": "text/x-python",
      "name": "python",
      "nbconvert_exporter": "python",
      "pygments_lexer": "ipython3",
      "version": "3.10.7"
    },
    "vscode": {
      "interpreter": {
        "hash": "7e1998ff7f8aa20ada591c520b972326324e5ea05489af9e422744c7c09f6dad"
      }
    }
  },
  "nbformat": 4,
  "nbformat_minor": 0
}
